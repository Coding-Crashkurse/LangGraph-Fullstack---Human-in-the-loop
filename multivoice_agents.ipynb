{
 "cells": [
  {
   "cell_type": "markdown",
   "metadata": {},
   "source": [
    "### LangGraph Agent - Customer Support multivoice Agent"
   ]
  },
  {
   "cell_type": "code",
   "execution_count": 1,
   "metadata": {},
   "outputs": [
    {
     "data": {
      "text/plain": [
       "True"
      ]
     },
     "execution_count": 1,
     "metadata": {},
     "output_type": "execute_result"
    }
   ],
   "source": [
    "from dotenv import load_dotenv\n",
    "\n",
    "load_dotenv()"
   ]
  },
  {
   "cell_type": "code",
   "execution_count": 2,
   "metadata": {},
   "outputs": [],
   "source": [
    "from langchain_core.prompts import ChatPromptTemplate\n",
    "from langchain_openai import ChatOpenAI\n",
    "\n",
    "system = \"\"\"You are Andrea, a knowledgeable and friendly assistant in a telecommunications company. Your expertise lies in various mobile plans and upgrades. Your role is to help users understand their options and assist them with their queries about mobile plans and upgrades. Always respond in a helpful and professional manner.\n",
    "Always speak to the user with his name.\n",
    "\n",
    "Username: {username}\n",
    "UserID: {user_id}\n",
    "\n",
    "Remember, your goal is to make the user feel supported and informed. Always be courteous and clear in your responses.\n",
    "\"\"\"\n",
    "\n"
   ]
  },
  {
   "cell_type": "code",
   "execution_count": 3,
   "metadata": {},
   "outputs": [],
   "source": [
    "import requests\n",
    "from langchain_core.tools import tool\n",
    "\n",
    "API_URL = \"http://127.0.0.1:8000\"\n",
    "ADMIN_USERNAME = \"admin1\"\n",
    "ADMIN_PASSWORD = \"admin1password\"\n",
    "\n",
    "@tool\n",
    "def create_contract_tool(user_id: int, category: str):\n",
    "    \"\"\"\n",
    "    Create a new contract for a user with a specific category.\n",
    "\n",
    "    Args:\n",
    "        user_id (int): ID of the user for whom the contract is being created.\n",
    "        category (str): Category of the contract. Must be one of \"basic\", \"normal\", or \"premium\".\n",
    "\n",
    "    Returns:\n",
    "        str: A string containing the details of the created contract.\n",
    "        str: Error message if the user is not found or if any other validation fails.\n",
    "\n",
    "    This function interacts with the FastAPI API to create a new contract for the specified user.\n",
    "    \"\"\"\n",
    "    try:\n",
    "        # Login as admin\n",
    "        login_response = requests.post(f\"{API_URL}/token/\", data={\"username\": ADMIN_USERNAME, \"password\": ADMIN_PASSWORD})\n",
    "        if login_response.status_code != 200:\n",
    "            return f\"Login failed: {login_response.json().get('detail')}\"\n",
    "\n",
    "        access_token = login_response.json().get(\"access_token\")\n",
    "        headers = {\"Authorization\": f\"Bearer {access_token}\"}\n",
    "\n",
    "        # Validate the category\n",
    "        if category not in [\"basic\", \"normal\", \"premium\"]:\n",
    "            return \"Category must be one of: basic, normal, premium\"\n",
    "\n",
    "        # Create contract\n",
    "        contract_data = {\"user_id\": user_id, \"category\": category}\n",
    "        create_response = requests.post(f\"{API_URL}/contracts/\", json=contract_data, headers=headers)\n",
    "        if create_response.status_code != 200:\n",
    "            return f\"Failed to create contract: {create_response.json().get('detail')}\"\n",
    "\n",
    "        contract = create_response.json()\n",
    "        return f\"Contract created: User ID {contract['user_id']}, Category {contract['category']}, Contract Time {contract['contract_time']}\"\n",
    "    except Exception as e:\n",
    "        return f\"Failed to execute. Error: {repr(e)}\"\n",
    "\n",
    "tools = [create_contract_tool]"
   ]
  },
  {
   "cell_type": "code",
   "execution_count": 4,
   "metadata": {},
   "outputs": [],
   "source": [
    "from langchain_core.messages.human import HumanMessage\n",
    "\n",
    "order_prompt = ChatPromptTemplate.from_messages(\n",
    "    [\n",
    "        (\"system\", system),\n",
    "        (\"placeholder\", \"{chat_history}\"),\n",
    "        (\"human\", \"{question}\"),\n",
    "    ]\n",
    ")\n",
    "\n",
    "question = \"I would like to create a premium contract please. My user ID is 6\"\n",
    "chat_history = []\n",
    "messages = [HumanMessage(content=question)]\n",
    "\n",
    "model = ChatOpenAI()\n",
    "model_with_tools = model.bind_tools(tools=tools)\n",
    "order_checker_llm = order_prompt | model_with_tools\n",
    "result = order_checker_llm.invoke(\n",
    "    {\"question\": question, \"chat_history\": chat_history, \"username\": \"Max\", \"user_id\": 3},\n",
    ")"
   ]
  },
  {
   "cell_type": "code",
   "execution_count": 5,
   "metadata": {},
   "outputs": [],
   "source": [
    "messages.append(result)"
   ]
  },
  {
   "cell_type": "code",
   "execution_count": 6,
   "metadata": {},
   "outputs": [
    {
     "data": {
      "text/plain": [
       "[{'name': 'create_contract_tool',\n",
       "  'args': {'user_id': 6, 'category': 'premium'},\n",
       "  'id': 'call_8Si7qdj9JzdUVeHy0Mvud2TA',\n",
       "  'type': 'tool_call'}]"
      ]
     },
     "execution_count": 6,
     "metadata": {},
     "output_type": "execute_result"
    }
   ],
   "source": [
    "result.tool_calls"
   ]
  },
  {
   "cell_type": "code",
   "execution_count": 7,
   "metadata": {},
   "outputs": [
    {
     "name": "stdout",
     "output_type": "stream",
     "text": [
      "Use Tool: {'name': 'create_contract_tool', 'args': {'user_id': 6, 'category': 'premium'}, 'id': 'call_8Si7qdj9JzdUVeHy0Mvud2TA', 'type': 'tool_call'}\n",
      "Failed to create contract: User already has a contract\n"
     ]
    }
   ],
   "source": [
    "from langchain_core.messages import ToolMessage\n",
    "\n",
    "for tool_call in result.tool_calls:\n",
    "    print(\"Use Tool:\", tool_call)\n",
    "    selected_tool = tool_mapping = {\"create_contract_tool\": create_contract_tool}[\n",
    "        tool_call[\"name\"].lower()\n",
    "    ]\n",
    "    tool_output = selected_tool.invoke(tool_call[\"args\"])\n",
    "    print(tool_output)\n",
    "    messages.append(ToolMessage(tool_output, tool_call_id=tool_call[\"id\"]))"
   ]
  },
  {
   "cell_type": "code",
   "execution_count": 8,
   "metadata": {},
   "outputs": [
    {
     "data": {
      "text/plain": [
       "[HumanMessage(content='I would like to create a premium contract please. My user ID is 6'),\n",
       " AIMessage(content='', additional_kwargs={'tool_calls': [{'id': 'call_8Si7qdj9JzdUVeHy0Mvud2TA', 'function': {'arguments': '{\"user_id\":6,\"category\":\"premium\"}', 'name': 'create_contract_tool'}, 'type': 'function'}]}, response_metadata={'token_usage': {'completion_tokens': 20, 'prompt_tokens': 268, 'total_tokens': 288}, 'model_name': 'gpt-3.5-turbo-0125', 'system_fingerprint': None, 'finish_reason': 'tool_calls', 'logprobs': None}, id='run-1be3cc07-5351-4346-b652-d8ae17afa307-0', tool_calls=[{'name': 'create_contract_tool', 'args': {'user_id': 6, 'category': 'premium'}, 'id': 'call_8Si7qdj9JzdUVeHy0Mvud2TA', 'type': 'tool_call'}], usage_metadata={'input_tokens': 268, 'output_tokens': 20, 'total_tokens': 288}),\n",
       " ToolMessage(content='Failed to create contract: User already has a contract', tool_call_id='call_8Si7qdj9JzdUVeHy0Mvud2TA')]"
      ]
     },
     "execution_count": 8,
     "metadata": {},
     "output_type": "execute_result"
    }
   ],
   "source": [
    "messages"
   ]
  },
  {
   "cell_type": "code",
   "execution_count": 10,
   "metadata": {},
   "outputs": [
    {
     "data": {
      "text/plain": [
       "AIMessage(content='It seems that you already have a contract. If you have any specific requests or need assistance with your existing contract, please let me know how I can help you further.', response_metadata={'token_usage': {'completion_tokens': 35, 'prompt_tokens': 212, 'total_tokens': 247}, 'model_name': 'gpt-3.5-turbo-0125', 'system_fingerprint': None, 'finish_reason': 'stop', 'logprobs': None}, id='run-01ee8b49-b773-47d2-b14f-365d8e971116-0', usage_metadata={'input_tokens': 212, 'output_tokens': 35, 'total_tokens': 247})"
      ]
     },
     "execution_count": 10,
     "metadata": {},
     "output_type": "execute_result"
    }
   ],
   "source": [
    "model_with_tools.invoke(messages)"
   ]
  },
  {
   "cell_type": "code",
   "execution_count": null,
   "metadata": {},
   "outputs": [],
   "source": [
    "from typing import Annotated\n",
    "\n",
    "from langchain_openai import ChatOpenAI\n",
    "from typing_extensions import TypedDict\n",
    "\n",
    "from langgraph.checkpoint.sqlite import SqliteSaver\n",
    "from langgraph.graph import StateGraph\n",
    "from langgraph.graph.message import add_messages\n",
    "from langgraph.prebuilt import ToolNode, tools_condition\n",
    "\n",
    "\n",
    "class State(TypedDict):\n",
    "    messages: Annotated[list, add_messages]\n",
    "    ask_human: bool\n",
    "    agent_name: str"
   ]
  },
  {
   "cell_type": "code",
   "execution_count": null,
   "metadata": {},
   "outputs": [],
   "source": [
    "from langchain_core.tools import tool\n",
    "\n",
    "\n",
    "@tool\n",
    "def request_assistance():\n",
    "    \"\"\"Escalate the conversation to an expert. Use this if you are unable to assist directly or if the user requires support beyond your permissions.\n",
    "\n",
    "    To use this function, relay the user's 'request' so the expert can provide the right guidance.\n",
    "    \"\"\"\n",
    "    return \"\""
   ]
  }
 ],
 "metadata": {
  "kernelspec": {
   "display_name": ".venv",
   "language": "python",
   "name": "python3"
  },
  "language_info": {
   "codemirror_mode": {
    "name": "ipython",
    "version": 3
   },
   "file_extension": ".py",
   "mimetype": "text/x-python",
   "name": "python",
   "nbconvert_exporter": "python",
   "pygments_lexer": "ipython3",
   "version": "3.11.0"
  }
 },
 "nbformat": 4,
 "nbformat_minor": 2
}
