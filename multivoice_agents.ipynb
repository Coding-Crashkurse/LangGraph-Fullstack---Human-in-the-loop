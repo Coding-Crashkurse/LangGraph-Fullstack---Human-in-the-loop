{
 "cells": [
  {
   "cell_type": "markdown",
   "metadata": {},
   "source": [
    "### LangGraph Agent - Customer Support multivoice Agent"
   ]
  },
  {
   "cell_type": "code",
   "execution_count": null,
   "metadata": {},
   "outputs": [],
   "source": [
    "from dotenv import load_dotenv\n",
    "\n",
    "load_dotenv()"
   ]
  },
  {
   "cell_type": "code",
   "execution_count": null,
   "metadata": {},
   "outputs": [],
   "source": [
    "from langchain_community.vectorstores import PGVector\n",
    "\n"
   ]
  },
  {
   "cell_type": "code",
   "execution_count": null,
   "metadata": {},
   "outputs": [],
   "source": [
    "from langchain_core.prompts import PromptTemplate\n",
    "from langchain_openai import ChatOpenAI\n",
    "from langchain_community.vectorstores import PGVector\n",
    "\n",
    "system = \"\"\"You are Andrea, a knowledgeable and friendly assistant in a telecommunications company. Your expertise lies in various mobile plans and upgrades. Your role is to help users understand their options and assist them with their queries about mobile plans and upgrades. Always respond in a helpful and professional manner.\n",
    "Always speak to the user with his name.\n",
    "\n",
    "Username: {username}\n",
    "\n",
    "Remember, your goal is to make the user feel supported and informed. Always be courteous and clear in your responses.\n",
    "\"\"\"\n",
    "prompt_template = PromptTemplate.from_template(system)"
   ]
  },
  {
   "cell_type": "code",
   "execution_count": null,
   "metadata": {},
   "outputs": [],
   "source": [
    "import requests\n",
    "from langchain_core.tools import tool\n",
    "from typing import Optional\n",
    "import time\n",
    "\n",
    "API_URL = \"http://127.0.0.1:8000\"\n",
    "ADMIN_USERNAME = \"admin1\"\n",
    "ADMIN_PASSWORD = \"admin1password\"\n",
    "\n",
    "categories = [\"basic\", \"normal\", \"premium\"]\n",
    "\n",
    "def login():\n",
    "    login_response = requests.post(f\"{API_URL}/token/\", data={\"username\": ADMIN_USERNAME, \"password\": ADMIN_PASSWORD})\n",
    "    if login_response.status_code != 200:\n",
    "        print(f\"Login failed: {login_response.json().get('detail')}\")\n",
    "        return None, f\"Login failed: {login_response.json().get('detail')}\"\n",
    "    access_token = login_response.json().get(\"access_token\")\n",
    "    headers = {\"Authorization\": f\"Bearer {access_token}\"}\n",
    "    print(\"Login successful, headers obtained\")\n",
    "    return headers, None\n",
    "\n",
    "def ask_admin(action: str, username: str, category: Optional[str] = None):\n",
    "    try:\n",
    "        headers, error = login()\n",
    "        if error:\n",
    "            return None, error\n",
    "\n",
    "        ask_data = {\"action\": action, \"username\": username}\n",
    "        if category:\n",
    "            ask_data[\"category\"] = category\n",
    "\n",
    "        print(f\"Requesting admin approval with data: {ask_data}\")\n",
    "        response = requests.post(f\"{API_URL}/ask_admin/\", json=ask_data, headers=headers)\n",
    "        if response.status_code != 200:\n",
    "            print(f\"Failed to request admin approval: {response.json().get('detail')}\")\n",
    "            return None, f\"Failed to request admin approval: {response.json().get('detail')}\"\n",
    "\n",
    "        print(\"Admin approval requested\")\n",
    "        return \"Admin approval requested\", None\n",
    "    except Exception as e:\n",
    "        print(f\"Failed to execute ask_admin. Error: {repr(e)}\")\n",
    "        return None, f\"Failed to execute. Error: {repr(e)}\"\n",
    "\n",
    "def wait_for_admin_approval(action: str, username: str, category: str = None):\n",
    "    print(\"Waiting for admin approval...\")\n",
    "    while True:\n",
    "        response = requests.get(f\"{API_URL}/check_confirmation/{username}\")\n",
    "        print(\"RESPONSE:\", response.json())\n",
    "        if response.status_code == 200:\n",
    "            result = response.json()\n",
    "            print(f\"Received admin approval response: {result}\")\n",
    "            if result.get(\"message\") == \"Admin denied the request\":\n",
    "                return \"Admin denied your request\"\n",
    "            elif result.get(\"message\") == \"Contract created\":\n",
    "                return result\n",
    "        time.sleep(2)  # Add a delay before retrying to avoid spamming the server\n",
    "\n",
    "\n",
    "@tool\n",
    "def create_contract_tool(username: str, category: str):\n",
    "    \"\"\"\n",
    "    Create a new contract for a user with a specific category.\n",
    "\n",
    "    Args:\n",
    "        username (str): Username of the user for whom the contract is being created.\n",
    "        category (str): Category of the contract. Must be one of \"basic\", \"normal\", or \"premium\".\n",
    "\n",
    "    Returns:\n",
    "        str: A string indicating the result of the admin approval process and contract creation.\n",
    "    \"\"\"\n",
    "    print(f\"Starting contract creation for user: {username}, category: {category}\")\n",
    "\n",
    "    # Step 0: Check if the user already has a contract\n",
    "    headers, error = login()\n",
    "    if error:\n",
    "        print(f\"Error during login: {error}\")\n",
    "        return error\n",
    "\n",
    "    print(f\"Fetching contract details for username: {username}\")\n",
    "    user_contract_response = requests.get(f\"{API_URL}/contracts/user/{username}\", headers=headers)\n",
    "    if user_contract_response.status_code == 200:\n",
    "        user_contract = user_contract_response.json()\n",
    "        print(f\"User contract details: {user_contract}\")\n",
    "        # Check if the user has a valid contract category\n",
    "        if user_contract.get('category') in categories:\n",
    "            return f\"User already has a contract: {user_contract}\"\n",
    "        else:\n",
    "            print(\"No valid contract found for the user.\")\n",
    "    elif user_contract_response.status_code == 404:\n",
    "        print(\"No contract found for the user.\")\n",
    "    else:\n",
    "        print(f\"Failed to fetch user contract details: {user_contract_response.json().get('detail')}\")\n",
    "        return f\"Failed to fetch user contract details: {user_contract_response.json().get('detail')}\"\n",
    "\n",
    "    # Step 1: Request admin approval\n",
    "    admin_request, error = ask_admin(\"create\", username, category)\n",
    "    if error:\n",
    "        print(f\"Error during admin approval request: {error}\")\n",
    "        return error\n",
    "\n",
    "    # Inform that admin approval is requested\n",
    "    if admin_request == \"Admin approval requested\":\n",
    "        # Wait for admin approval\n",
    "        approval_result = wait_for_admin_approval(\"create\", username, category)\n",
    "        if isinstance(approval_result, dict) and \"denied\" in approval_result.get('message', \"\").lower():\n",
    "            print(f\"Admin denied the request: {approval_result}\")\n",
    "            return approval_result.get('message')\n",
    "        elif isinstance(approval_result, dict) and approval_result.get('message') == \"Contract created\":\n",
    "            print(f\"Admin created the contract: {approval_result}\")\n",
    "            return f\"Contract successfully created: ID {approval_result['id']}, Category {approval_result['category']}, Contract Time {approval_result['contract_time']}, User ID {approval_result['user_id']}\"\n",
    "\n",
    "    return \"Unexpected flow reached\"\n",
    "\n",
    "tools = [create_contract_tool]\n"
   ]
  },
  {
   "cell_type": "code",
   "execution_count": null,
   "metadata": {},
   "outputs": [],
   "source": [
    "from langchain_core.messages.human import HumanMessage\n",
    "from langchain_core.messages.system import SystemMessage\n",
    "\n",
    "sys_msg = [SystemMessage(content=prompt_template.format(username=\"aaa\"))]\n",
    "hu_msg = [HumanMessage(content=\"I would like to create a premium contract please.\")]\n",
    "\n",
    "chat_history = []\n",
    "\n",
    "messages = sys_msg + chat_history + hu_msg\n",
    "model = ChatOpenAI()\n",
    "model_with_tools = model.bind_tools(tools=tools)\n",
    "\n",
    "result = model_with_tools.invoke(messages)"
   ]
  },
  {
   "cell_type": "code",
   "execution_count": null,
   "metadata": {},
   "outputs": [],
   "source": [
    "messages.append(result)"
   ]
  },
  {
   "cell_type": "code",
   "execution_count": null,
   "metadata": {},
   "outputs": [],
   "source": [
    "result.tool_calls"
   ]
  },
  {
   "cell_type": "code",
   "execution_count": null,
   "metadata": {},
   "outputs": [],
   "source": [
    "from langchain_core.messages import ToolMessage\n",
    "\n",
    "for tool_call in result.tool_calls:\n",
    "    print(\"Use Tool:\", tool_call)\n",
    "    selected_tool = {\"create_contract_tool\": create_contract_tool}[tool_call[\"name\"].lower()]\n",
    "    tool_output = selected_tool.invoke(tool_call[\"args\"])\n",
    "    print(tool_output)\n",
    "    messages.append(ToolMessage(tool_output, tool_call_id=tool_call[\"id\"]))"
   ]
  },
  {
   "cell_type": "code",
   "execution_count": null,
   "metadata": {},
   "outputs": [],
   "source": [
    "messages"
   ]
  },
  {
   "cell_type": "code",
   "execution_count": null,
   "metadata": {},
   "outputs": [],
   "source": [
    "model_with_tools.invoke(messages)"
   ]
  }
 ],
 "metadata": {
  "kernelspec": {
   "display_name": ".venv",
   "language": "python",
   "name": "python3"
  },
  "language_info": {
   "codemirror_mode": {
    "name": "ipython",
    "version": 3
   },
   "file_extension": ".py",
   "mimetype": "text/x-python",
   "name": "python",
   "nbconvert_exporter": "python",
   "pygments_lexer": "ipython3",
   "version": "3.11.0"
  }
 },
 "nbformat": 4,
 "nbformat_minor": 2
}
