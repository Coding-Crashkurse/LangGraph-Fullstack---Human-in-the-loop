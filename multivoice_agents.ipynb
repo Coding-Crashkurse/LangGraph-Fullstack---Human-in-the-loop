{
 "cells": [
  {
   "cell_type": "markdown",
   "metadata": {},
   "source": [
    "### LangGraph Agent - Customer Support multivoice Agent"
   ]
  },
  {
   "cell_type": "code",
   "execution_count": 1,
   "metadata": {},
   "outputs": [
    {
     "data": {
      "text/plain": [
       "True"
      ]
     },
     "execution_count": 1,
     "metadata": {},
     "output_type": "execute_result"
    }
   ],
   "source": [
    "from dotenv import load_dotenv\n",
    "\n",
    "load_dotenv()"
   ]
  },
  {
   "cell_type": "code",
   "execution_count": 2,
   "metadata": {},
   "outputs": [],
   "source": [
    "from langchain_core.prompts import PromptTemplate\n",
    "from langchain_openai import ChatOpenAI\n",
    "\n",
    "system = \"\"\"You are Andrea, a knowledgeable and friendly assistant in a telecommunications company. Your expertise lies in various mobile plans and upgrades. Your role is to help users understand their options and assist them with their queries about mobile plans and upgrades. Always respond in a helpful and professional manner.\n",
    "Always speak to the user with his name.\n",
    "\n",
    "Username: {username}\n",
    "UserID: {user_id}\n",
    "\n",
    "Remember, your goal is to make the user feel supported and informed. Always be courteous and clear in your responses.\n",
    "\"\"\"\n",
    "prompt_template = PromptTemplate.from_template(system)"
   ]
  },
  {
   "cell_type": "code",
   "execution_count": 3,
   "metadata": {},
   "outputs": [],
   "source": [
    "import requests\n",
    "from langchain_core.tools import tool\n",
    "from datetime import datetime, timedelta\n",
    "\n",
    "API_URL = \"http://127.0.0.1:8000\"\n",
    "ADMIN_USERNAME = \"admin1\"\n",
    "ADMIN_PASSWORD = \"admin1password\"\n",
    "\n",
    "@tool\n",
    "def create_contract_tool(user_id: int, category: str):\n",
    "    \"\"\"\n",
    "    Create a new contract for a user with a specific category.\n",
    "\n",
    "    Args:\n",
    "        user_id (int): ID of the user for whom the contract is being created.\n",
    "        category (str): Category of the contract. Must be one of \"basic\", \"normal\", or \"premium\".\n",
    "\n",
    "    Returns:\n",
    "        str: A string containing the details of the created contract.\n",
    "        str: Error message if the user is not found or if any other validation fails.\n",
    "\n",
    "    This function interacts with the FastAPI API to create a new contract for the specified user.\n",
    "    \"\"\"\n",
    "    try:\n",
    "        # Login as admin\n",
    "        login_response = requests.post(f\"{API_URL}/token/\", data={\"username\": ADMIN_USERNAME, \"password\": ADMIN_PASSWORD})\n",
    "        if login_response.status_code != 200:\n",
    "            return f\"Login failed: {login_response.json().get('detail')}\"\n",
    "\n",
    "        access_token = login_response.json().get(\"access_token\")\n",
    "        headers = {\"Authorization\": f\"Bearer {access_token}\"}\n",
    "\n",
    "        # Validate the category\n",
    "        if category not in [\"basic\", \"normal\", \"premium\"]:\n",
    "            return \"Category must be one of: basic, normal, premium\"\n",
    "\n",
    "        # Create contract\n",
    "        contract_data = {\"user_id\": user_id, \"category\": category}\n",
    "        create_response = requests.post(f\"{API_URL}/contracts/\", json=contract_data, headers=headers)\n",
    "        if create_response.status_code != 200:\n",
    "            return f\"Failed to create contract: {create_response.json().get('detail')}\"\n",
    "\n",
    "        contract = create_response.json()\n",
    "        return f\"Contract created: User ID {contract['user_id']}, Category {contract['category']}, Contract Time {contract['contract_time']}\"\n",
    "    except Exception as e:\n",
    "        return f\"Failed to execute. Error: {repr(e)}\"\n",
    "\n",
    "\n",
    "@tool\n",
    "def update_contract_status_tool(contract_id: int, category: Optional[str] = None):\n",
    "    \"\"\"\n",
    "    Update the status of a contract.\n",
    "\n",
    "    Args:\n",
    "        contract_id (int): ID of the contract to be updated.\n",
    "        category (str, optional): New category for the contract. Must be one of \"basic\", \"normal\", or \"premium\".\n",
    "\n",
    "    Returns:\n",
    "        str: A string containing the details of the updated contract.\n",
    "        str: Error message if the contract is not found or if any other validation fails.\n",
    "\n",
    "    This function interacts with the FastAPI API to update the status of the specified contract.\n",
    "    \"\"\"\n",
    "    try:\n",
    "        # Login as admin\n",
    "        login_response = requests.post(f\"{API_URL}/token/\", data={\"username\": ADMIN_USERNAME, \"password\": ADMIN_PASSWORD})\n",
    "        if login_response.status_code != 200:\n",
    "            return f\"Login failed: {login_response.json().get('detail')}\"\n",
    "\n",
    "        access_token = login_response.json().get(\"access_token\")\n",
    "        headers = {\"Authorization\": f\"Bearer {access_token}\"}\n",
    "\n",
    "        # Validate the category if provided\n",
    "        if category and category not in [\"basic\", \"normal\", \"premium\"]:\n",
    "            return \"Category must be one of: basic, normal, premium\"\n",
    "\n",
    "        # Update contract\n",
    "        update_data = {\"category\": category}\n",
    "        update_response = requests.put(f\"{API_URL}/contracts/{contract_id}/\", json=update_data, headers=headers)\n",
    "        if update_response.status_code != 200:\n",
    "            return f\"Failed to update contract: {update_response.json().get('detail')}\"\n",
    "\n",
    "        contract = update_response.json()\n",
    "        return f\"Contract updated: ID {contract['id']}, Category {contract['category']}, Contract Time {contract['contract_time']}\"\n",
    "    except Exception as e:\n",
    "        return f\"Failed to execute. Error: {repr(e)}\"\n",
    "\n",
    "\n",
    "@tool\n",
    "def delete_contract_tool(contract_id: int):\n",
    "    \"\"\"\n",
    "    Delete a contract (set it to expire in 3 months).\n",
    "\n",
    "    Args:\n",
    "        contract_id (int): ID of the contract to be deleted.\n",
    "\n",
    "    Returns:\n",
    "        str: A string confirming the deletion of the contract along with the exact date it will expire.\n",
    "        str: Error message if the contract is not found or if any other validation fails.\n",
    "\n",
    "    This function interacts with the FastAPI API to delete the specified contract.\n",
    "    \"\"\"\n",
    "    try:\n",
    "        # Login as admin\n",
    "        login_response = requests.post(f\"{API_URL}/token/\", data={\"username\": ADMIN_USERNAME, \"password\": ADMIN_PASSWORD})\n",
    "        if login_response.status_code != 200:\n",
    "            return f\"Login failed: {login_response.json().get('detail')}\"\n",
    "\n",
    "        access_token = login_response.json().get(\"access_token\")\n",
    "        headers = {\"Authorization\": f\"Bearer {access_token}\"}\n",
    "\n",
    "        # Delete contract\n",
    "        delete_response = requests.delete(f\"{API_URL}/contracts/{contract_id}/\", headers=headers)\n",
    "        if delete_response.status_code != 200:\n",
    "            return f\"Failed to delete contract: {delete_response.json().get('detail')}\"\n",
    "\n",
    "        expiration_date = (datetime.utcnow() + timedelta(days=90)).date()\n",
    "        return f\"Contract will be cancelled on {expiration_date}\"\n",
    "    except Exception as e:\n",
    "        return f\"Failed to execute. Error: {repr(e)}\"\n",
    "\n",
    "\n",
    "@tool\n",
    "def get_contract_details_tool(contract_id: int):\n",
    "    \"\"\"\n",
    "    Get the details of a contract.\n",
    "\n",
    "    Args:\n",
    "        contract_id (int): ID of the contract to retrieve.\n",
    "\n",
    "    Returns:\n",
    "        str: A string containing the details of the contract.\n",
    "        str: Error message if the contract is not found or if any other validation fails.\n",
    "\n",
    "    This function interacts with the FastAPI API to retrieve the specified contract's details.\n",
    "    \"\"\"\n",
    "    try:\n",
    "        # Login as admin\n",
    "        login_response = requests.post(f\"{API_URL}/token/\", data={\"username\": ADMIN_USERNAME, \"password\": ADMIN_PASSWORD})\n",
    "        if login_response.status_code != 200:\n",
    "            return f\"Login failed: {login_response.json().get('detail')}\"\n",
    "\n",
    "        access_token = login_response.json().get(\"access_token\")\n",
    "        headers = {\"Authorization\": f\"Bearer {access_token}\"}\n",
    "\n",
    "        # Get contract details\n",
    "        get_response = requests.get(f\"{API_URL}/contracts/{contract_id}/\", headers=headers)\n",
    "        if get_response.status_code != 200:\n",
    "            return f\"Failed to get contract details: {get_response.json().get('detail')}\"\n",
    "\n",
    "        contract = get_response.json()\n",
    "        return f\"Contract details: ID {contract['id']}, Category {contract['category']}, Contract Time {contract['contract_time']}, User ID {contract['user_id']}\"\n",
    "    except Exception as e:\n",
    "        return f\"Failed to execute. Error: {repr(e)}\"\n",
    "\n",
    "\n",
    "tools = [create_contract_tool, update_contract_status_tool, delete_contract_tool, get_contract_details_tool]\n"
   ]
  },
  {
   "cell_type": "code",
   "execution_count": 11,
   "metadata": {},
   "outputs": [],
   "source": [
    "from langchain_core.messages.human import HumanMessage\n",
    "from langchain_core.messages.system import SystemMessage\n",
    "\n",
    "sys_msg = [SystemMessage(content=prompt_template.format(username=\"Max\", user_id=4))]\n",
    "hu_msg = [HumanMessage(content=\"I would like to create a premium contract please.\")]\n",
    "\n",
    "chat_history = []\n",
    "\n",
    "messages = sys_msg + chat_history + hu_msg\n",
    "model = ChatOpenAI()\n",
    "model_with_tools = model.bind_tools(tools=tools)\n",
    "\n",
    "result = model_with_tools.invoke(messages)"
   ]
  },
  {
   "cell_type": "code",
   "execution_count": 5,
   "metadata": {},
   "outputs": [],
   "source": [
    "messages.append(result)"
   ]
  },
  {
   "cell_type": "code",
   "execution_count": 6,
   "metadata": {},
   "outputs": [
    {
     "data": {
      "text/plain": [
       "[{'name': 'create_contract_tool',\n",
       "  'args': {'user_id': 4, 'category': 'premium'},\n",
       "  'id': 'call_FClZJxmm8W5DDae78HRWyWD4',\n",
       "  'type': 'tool_call'}]"
      ]
     },
     "execution_count": 6,
     "metadata": {},
     "output_type": "execute_result"
    }
   ],
   "source": [
    "result.tool_calls"
   ]
  },
  {
   "cell_type": "code",
   "execution_count": 7,
   "metadata": {},
   "outputs": [
    {
     "name": "stdout",
     "output_type": "stream",
     "text": [
      "Use Tool: {'name': 'create_contract_tool', 'args': {'user_id': 4, 'category': 'premium'}, 'id': 'call_FClZJxmm8W5DDae78HRWyWD4', 'type': 'tool_call'}\n",
      "Failed to execute. Error: ConnectionError(MaxRetryError(\"HTTPConnectionPool(host='127.0.0.1', port=8000): Max retries exceeded with url: /token/ (Caused by NewConnectionError('<urllib3.connection.HTTPConnection object at 0x000001EB7666BF50>: Failed to establish a new connection: [WinError 10061] Es konnte keine Verbindung hergestellt werden, da der Zielcomputer die Verbindung verweigerte'))\"))\n"
     ]
    }
   ],
   "source": [
    "from langchain_core.messages import ToolMessage\n",
    "\n",
    "for tool_call in result.tool_calls:\n",
    "    print(\"Use Tool:\", tool_call)\n",
    "    selected_tool = tool_mapping = {\"create_contract_tool\": create_contract_tool}[\n",
    "        tool_call[\"name\"].lower()\n",
    "    ]\n",
    "    tool_output = selected_tool.invoke(tool_call[\"args\"])\n",
    "    print(tool_output)\n",
    "    messages.append(ToolMessage(tool_output, tool_call_id=tool_call[\"id\"]))"
   ]
  },
  {
   "cell_type": "code",
   "execution_count": 8,
   "metadata": {},
   "outputs": [
    {
     "data": {
      "text/plain": [
       "[SystemMessage(content='You are Andrea, a knowledgeable and friendly assistant in a telecommunications company. Your expertise lies in various mobile plans and upgrades. Your role is to help users understand their options and assist them with their queries about mobile plans and upgrades. Always respond in a helpful and professional manner.\\nAlways speak to the user with his name.\\n\\nUsername: Max\\nUserID: 4\\n\\nRemember, your goal is to make the user feel supported and informed. Always be courteous and clear in your responses.\\n'),\n",
       " HumanMessage(content='I would like to create a premium contract please.'),\n",
       " AIMessage(content='', additional_kwargs={'tool_calls': [{'id': 'call_FClZJxmm8W5DDae78HRWyWD4', 'function': {'arguments': '{\"user_id\":4,\"category\":\"premium\"}', 'name': 'create_contract_tool'}, 'type': 'function'}]}, response_metadata={'token_usage': {'completion_tokens': 20, 'prompt_tokens': 262, 'total_tokens': 282}, 'model_name': 'gpt-3.5-turbo-0125', 'system_fingerprint': None, 'finish_reason': 'tool_calls', 'logprobs': None}, id='run-9f04b5a2-9785-4ccd-a346-45cede8ec871-0', tool_calls=[{'name': 'create_contract_tool', 'args': {'user_id': 4, 'category': 'premium'}, 'id': 'call_FClZJxmm8W5DDae78HRWyWD4', 'type': 'tool_call'}], usage_metadata={'input_tokens': 262, 'output_tokens': 20, 'total_tokens': 282}),\n",
       " ToolMessage(content='Failed to execute. Error: ConnectionError(MaxRetryError(\"HTTPConnectionPool(host=\\'127.0.0.1\\', port=8000): Max retries exceeded with url: /token/ (Caused by NewConnectionError(\\'<urllib3.connection.HTTPConnection object at 0x000001EB7666BF50>: Failed to establish a new connection: [WinError 10061] Es konnte keine Verbindung hergestellt werden, da der Zielcomputer die Verbindung verweigerte\\'))\"))', tool_call_id='call_FClZJxmm8W5DDae78HRWyWD4')]"
      ]
     },
     "execution_count": 8,
     "metadata": {},
     "output_type": "execute_result"
    }
   ],
   "source": [
    "messages"
   ]
  },
  {
   "cell_type": "code",
   "execution_count": 9,
   "metadata": {},
   "outputs": [
    {
     "data": {
      "text/plain": [
       "AIMessage(content='I apologize for the inconvenience. It seems there was an issue with creating the premium contract at the moment. Let me try to create the contract again for you.', additional_kwargs={'tool_calls': [{'id': 'call_izHGuQci9WesseRarVPm8Evn', 'function': {'arguments': '{\"user_id\":4,\"category\":\"premium\"}', 'name': 'create_contract_tool'}, 'type': 'function'}]}, response_metadata={'token_usage': {'completion_tokens': 53, 'prompt_tokens': 394, 'total_tokens': 447}, 'model_name': 'gpt-3.5-turbo-0125', 'system_fingerprint': None, 'finish_reason': 'tool_calls', 'logprobs': None}, id='run-50d17686-0436-4583-af64-61c0df653c1a-0', tool_calls=[{'name': 'create_contract_tool', 'args': {'user_id': 4, 'category': 'premium'}, 'id': 'call_izHGuQci9WesseRarVPm8Evn', 'type': 'tool_call'}], usage_metadata={'input_tokens': 394, 'output_tokens': 53, 'total_tokens': 447})"
      ]
     },
     "execution_count": 9,
     "metadata": {},
     "output_type": "execute_result"
    }
   ],
   "source": [
    "model_with_tools.invoke(messages)"
   ]
  },
  {
   "cell_type": "code",
   "execution_count": null,
   "metadata": {},
   "outputs": [],
   "source": [
    "from typing import Annotated\n",
    "\n",
    "from langchain_openai import ChatOpenAI\n",
    "from typing_extensions import TypedDict\n",
    "\n",
    "from langgraph.checkpoint.sqlite import SqliteSaver\n",
    "from langgraph.graph import StateGraph\n",
    "from langgraph.graph.message import add_messages\n",
    "from langgraph.prebuilt import ToolNode, tools_condition\n",
    "\n",
    "\n",
    "class State(TypedDict):\n",
    "    messages: Annotated[list, add_messages]\n",
    "    ask_human: bool\n",
    "    agent_name: str"
   ]
  },
  {
   "cell_type": "code",
   "execution_count": null,
   "metadata": {},
   "outputs": [],
   "source": [
    "from langchain_core.tools import tool\n",
    "\n",
    "\n",
    "@tool\n",
    "def request_assistance():\n",
    "    \"\"\"Escalate the conversation to an expert. Use this if you are unable to assist directly or if the user requires support beyond your permissions.\n",
    "\n",
    "    To use this function, relay the user's 'request' so the expert can provide the right guidance.\n",
    "    \"\"\"\n",
    "    return \"\""
   ]
  }
 ],
 "metadata": {
  "kernelspec": {
   "display_name": ".venv",
   "language": "python",
   "name": "python3"
  },
  "language_info": {
   "codemirror_mode": {
    "name": "ipython",
    "version": 3
   },
   "file_extension": ".py",
   "mimetype": "text/x-python",
   "name": "python",
   "nbconvert_exporter": "python",
   "pygments_lexer": "ipython3",
   "version": "3.11.0"
  }
 },
 "nbformat": 4,
 "nbformat_minor": 2
}
